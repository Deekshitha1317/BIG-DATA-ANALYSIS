{
  "nbformat": 4,
  "nbformat_minor": 0,
  "metadata": {
    "colab": {
      "provenance": []
    },
    "kernelspec": {
      "name": "python3",
      "display_name": "Python 3"
    },
    "language_info": {
      "name": "python"
    }
  },
  "cells": [
    {
      "cell_type": "code",
      "execution_count": 61,
      "metadata": {
        "colab": {
          "base_uri": "https://localhost:8080/"
        },
        "id": "4Tw1_dmELKJF",
        "outputId": "130f0b68-f7ee-45bf-8d01-57e893689a9d"
      },
      "outputs": [
        {
          "output_type": "stream",
          "name": "stdout",
          "text": [
            "Requirement already satisfied: pyspark in /usr/local/lib/python3.11/dist-packages (3.5.1)\n",
            "Requirement already satisfied: findspark in /usr/local/lib/python3.11/dist-packages (2.0.1)\n",
            "Requirement already satisfied: py4j==0.10.9.7 in /usr/local/lib/python3.11/dist-packages (from pyspark) (0.10.9.7)\n"
          ]
        }
      ],
      "source": [
        "!pip install pyspark findspark\n"
      ]
    },
    {
      "cell_type": "markdown",
      "source": [],
      "metadata": {
        "id": "cYBErJRnFW1k"
      }
    },
    {
      "cell_type": "code",
      "source": [
        "from pyspark.sql import SparkSession\n"
      ],
      "metadata": {
        "id": "QUR20_suLvSy"
      },
      "execution_count": 62,
      "outputs": []
    },
    {
      "cell_type": "code",
      "source": [
        "spark = SparkSession.builder.appName(\"pyspark\").getOrCreate()"
      ],
      "metadata": {
        "id": "XdnXQw5eMRkD"
      },
      "execution_count": 63,
      "outputs": []
    },
    {
      "cell_type": "code",
      "source": [
        "spark"
      ],
      "metadata": {
        "id": "Fgy7kq_qOT5-",
        "colab": {
          "base_uri": "https://localhost:8080/",
          "height": 219
        },
        "outputId": "411aab52-9503-4560-8c84-54b94466bc74"
      },
      "execution_count": 64,
      "outputs": [
        {
          "output_type": "execute_result",
          "data": {
            "text/plain": [
              "<pyspark.sql.session.SparkSession at 0x79d5467ca9d0>"
            ],
            "text/html": [
              "\n",
              "            <div>\n",
              "                <p><b>SparkSession - in-memory</b></p>\n",
              "                \n",
              "        <div>\n",
              "            <p><b>SparkContext</b></p>\n",
              "\n",
              "            <p><a href=\"http://62a7ee62ff00:4040\">Spark UI</a></p>\n",
              "\n",
              "            <dl>\n",
              "              <dt>Version</dt>\n",
              "                <dd><code>v3.5.1</code></dd>\n",
              "              <dt>Master</dt>\n",
              "                <dd><code>local[*]</code></dd>\n",
              "              <dt>AppName</dt>\n",
              "                <dd><code>pyspark</code></dd>\n",
              "            </dl>\n",
              "        </div>\n",
              "        \n",
              "            </div>\n",
              "        "
            ]
          },
          "metadata": {},
          "execution_count": 64
        }
      ]
    },
    {
      "cell_type": "code",
      "source": [
        "df=spark.read.csv('/content/education.csv',header=True,inferSchema=True)"
      ],
      "metadata": {
        "id": "1aB-4qmrFc0j"
      },
      "execution_count": 65,
      "outputs": []
    },
    {
      "cell_type": "markdown",
      "source": [],
      "metadata": {
        "id": "PxTrDw0NO_fS"
      }
    },
    {
      "cell_type": "markdown",
      "source": [
        "**1. Display top 10 rows of the dataset**"
      ],
      "metadata": {
        "id": "1f2P93v-Ltqx"
      }
    },
    {
      "cell_type": "markdown",
      "source": [],
      "metadata": {
        "id": "8ahjxRA4FaMs"
      }
    },
    {
      "cell_type": "code",
      "source": [
        "df.show(10)"
      ],
      "metadata": {
        "colab": {
          "base_uri": "https://localhost:8080/"
        },
        "id": "8hnZTbulMFeu",
        "outputId": "d0457102-39d2-41e6-89be-3f04376314ce"
      },
      "execution_count": 66,
      "outputs": [
        {
          "output_type": "stream",
          "name": "stdout",
          "text": [
            "+----------+---+------+--------------+-----------+---------------------+------------------+----------------------------+---------------------+-------------------+-------------------+---------------------------+--------------+\n",
            "|Student_ID|Age|Gender|Academic_Level|    Country|Avg_Daily_Usage_Hours|Most_Used_Platform|Affects_Academic_Performance|Sleep_Hours_Per_Night|Mental_Health_Score|Relationship_Status|Conflicts_Over_Social_Media|Addicted_Score|\n",
            "+----------+---+------+--------------+-----------+---------------------+------------------+----------------------------+---------------------+-------------------+-------------------+---------------------------+--------------+\n",
            "|         1| 19|Female| Undergraduate| Bangladesh|                  5.2|         Instagram|                         Yes|                  6.5|                  6|    In Relationship|                          3|             8|\n",
            "|         2| 22|  Male|      Graduate|      India|                  2.1|           Twitter|                          No|                  7.5|                  8|             Single|                          0|             3|\n",
            "|         3| 20|Female| Undergraduate|        USA|                  6.0|            TikTok|                         Yes|                  5.0|                  5|        Complicated|                          4|             9|\n",
            "|         4| 18|  Male|   High School|         UK|                  3.0|           YouTube|                          No|                  7.0|                  7|             Single|                          1|             4|\n",
            "|         5| 21|  Male|      Graduate|     Canada|                  4.5|          Facebook|                         Yes|                  6.0|                  6|    In Relationship|                          2|             7|\n",
            "|         6| 19|Female| Undergraduate|  Australia|                  7.2|         Instagram|                         Yes|                  4.5|                  4|        Complicated|                          5|             9|\n",
            "|         7| 23|  Male|      Graduate|    Germany|                  1.5|          LinkedIn|                          No|                  8.0|                  9|             Single|                          0|             2|\n",
            "|         8| 20|Female| Undergraduate|     Brazil|                  5.8|          Snapchat|                         Yes|                  6.0|                  6|    In Relationship|                          2|             8|\n",
            "|         9| 18|  Male|   High School|      Japan|                  4.0|            TikTok|                          No|                  6.5|                  7|             Single|                          1|             5|\n",
            "|        10| 21|Female|      Graduate|South Korea|                  3.3|         Instagram|                          No|                  7.0|                  7|    In Relationship|                          1|             4|\n",
            "+----------+---+------+--------------+-----------+---------------------+------------------+----------------------------+---------------------+-------------------+-------------------+---------------------------+--------------+\n",
            "only showing top 10 rows\n",
            "\n"
          ]
        }
      ]
    },
    {
      "cell_type": "code",
      "source": [
        "df.printSchema()"
      ],
      "metadata": {
        "colab": {
          "base_uri": "https://localhost:8080/"
        },
        "id": "xeo2KH31MJ2R",
        "outputId": "d2ef9ef1-7147-4e42-8011-8b48e542b980"
      },
      "execution_count": 67,
      "outputs": [
        {
          "output_type": "stream",
          "name": "stdout",
          "text": [
            "root\n",
            " |-- Student_ID: integer (nullable = true)\n",
            " |-- Age: integer (nullable = true)\n",
            " |-- Gender: string (nullable = true)\n",
            " |-- Academic_Level: string (nullable = true)\n",
            " |-- Country: string (nullable = true)\n",
            " |-- Avg_Daily_Usage_Hours: double (nullable = true)\n",
            " |-- Most_Used_Platform: string (nullable = true)\n",
            " |-- Affects_Academic_Performance: string (nullable = true)\n",
            " |-- Sleep_Hours_Per_Night: double (nullable = true)\n",
            " |-- Mental_Health_Score: integer (nullable = true)\n",
            " |-- Relationship_Status: string (nullable = true)\n",
            " |-- Conflicts_Over_Social_Media: integer (nullable = true)\n",
            " |-- Addicted_Score: integer (nullable = true)\n",
            "\n"
          ]
        }
      ]
    },
    {
      "cell_type": "markdown",
      "source": [
        "**3.Display column names**"
      ],
      "metadata": {
        "id": "X77-tt1LaejH"
      }
    },
    {
      "cell_type": "code",
      "source": [
        "df.columns"
      ],
      "metadata": {
        "colab": {
          "base_uri": "https://localhost:8080/"
        },
        "id": "BhAhdvxsajwT",
        "outputId": "46d7f014-77d1-4a22-b7b4-aa4f1408fb4c"
      },
      "execution_count": 68,
      "outputs": [
        {
          "output_type": "execute_result",
          "data": {
            "text/plain": [
              "['Student_ID',\n",
              " 'Age',\n",
              " 'Gender',\n",
              " 'Academic_Level',\n",
              " 'Country',\n",
              " 'Avg_Daily_Usage_Hours',\n",
              " 'Most_Used_Platform',\n",
              " 'Affects_Academic_Performance',\n",
              " 'Sleep_Hours_Per_Night',\n",
              " 'Mental_Health_Score',\n",
              " 'Relationship_Status',\n",
              " 'Conflicts_Over_Social_Media',\n",
              " 'Addicted_Score']"
            ]
          },
          "metadata": {},
          "execution_count": 68
        }
      ]
    },
    {
      "cell_type": "markdown",
      "source": [
        "**4. count number of rows of the dataset**"
      ],
      "metadata": {
        "id": "X-7HNhLXawZb"
      }
    },
    {
      "cell_type": "code",
      "source": [
        "df.count()\n"
      ],
      "metadata": {
        "colab": {
          "base_uri": "https://localhost:8080/"
        },
        "id": "5PpgdylLap4G",
        "outputId": "319b2514-9d3c-49dc-ba07-63b558061d93"
      },
      "execution_count": 69,
      "outputs": [
        {
          "output_type": "execute_result",
          "data": {
            "text/plain": [
              "100"
            ]
          },
          "metadata": {},
          "execution_count": 69
        }
      ]
    },
    {
      "cell_type": "markdown",
      "source": [
        "**5. count number of columns of the dataset**"
      ],
      "metadata": {
        "id": "F1AipgczbIz_"
      }
    },
    {
      "cell_type": "code",
      "source": [
        "len(df.columns)"
      ],
      "metadata": {
        "colab": {
          "base_uri": "https://localhost:8080/"
        },
        "id": "OBTqFrvUbFSj",
        "outputId": "43c88a90-0a9c-4cca-9e33-33a9c66b6d54"
      },
      "execution_count": 70,
      "outputs": [
        {
          "output_type": "execute_result",
          "data": {
            "text/plain": [
              "13"
            ]
          },
          "metadata": {},
          "execution_count": 70
        }
      ]
    },
    {
      "cell_type": "markdown",
      "source": [
        "**6.Get overall statstic about dataset**\n"
      ],
      "metadata": {
        "id": "0BtBAUeCb6fu"
      }
    },
    {
      "cell_type": "code",
      "source": [
        "df.describe().show()\n"
      ],
      "metadata": {
        "colab": {
          "base_uri": "https://localhost:8080/"
        },
        "id": "4AVAmOmHba8M",
        "outputId": "8fbc575d-a335-4ea2-e106-dc29e53944e3"
      },
      "execution_count": 71,
      "outputs": [
        {
          "output_type": "stream",
          "name": "stdout",
          "text": [
            "+-------+------------------+------------------+------+--------------+-------+---------------------+------------------+----------------------------+---------------------+-------------------+-------------------+---------------------------+------------------+\n",
            "|summary|        Student_ID|               Age|Gender|Academic_Level|Country|Avg_Daily_Usage_Hours|Most_Used_Platform|Affects_Academic_Performance|Sleep_Hours_Per_Night|Mental_Health_Score|Relationship_Status|Conflicts_Over_Social_Media|    Addicted_Score|\n",
            "+-------+------------------+------------------+------+--------------+-------+---------------------+------------------+----------------------------+---------------------+-------------------+-------------------+---------------------------+------------------+\n",
            "|  count|               100|               100|   100|           100|    100|                  100|               100|                         100|                  100|                100|                100|                        100|               100|\n",
            "|   mean|              50.5|             20.34|  NULL|          NULL|   NULL|    4.351999999999999|              NULL|                        NULL|   6.1629999999999985|               6.26|               NULL|                       2.56|              6.41|\n",
            "| stddev|29.011491975882016|1.6466678935095413|  NULL|          NULL|   NULL|    1.273306361764163|              NULL|                        NULL|    0.773899348765847|   1.16011145406749|               NULL|         1.2578641509408808|1.7983999622560116|\n",
            "|    min|                 1|                18|Female|      Graduate|Albania|                  1.5|          Facebook|                          No|                  4.5|                  4|        Complicated|                          0|                 2|\n",
            "|    max|               100|                24|  Male| Undergraduate|Vietnam|                  7.2|           YouTube|                         Yes|                  8.0|                  9|             Single|                          5|                 9|\n",
            "+-------+------------------+------------------+------+--------------+-------+---------------------+------------------+----------------------------+---------------------+-------------------+-------------------+---------------------------+------------------+\n",
            "\n"
          ]
        }
      ]
    },
    {
      "cell_type": "code",
      "source": [],
      "metadata": {
        "id": "1IqlvjRjcK3j"
      },
      "execution_count": 71,
      "outputs": []
    },
    {
      "cell_type": "markdown",
      "source": [
        "**7.find the unique values available in the gender column**"
      ],
      "metadata": {
        "id": "SwVWoJk3cWKG"
      }
    },
    {
      "cell_type": "code",
      "source": [
        "df.columns\n"
      ],
      "metadata": {
        "colab": {
          "base_uri": "https://localhost:8080/"
        },
        "id": "mhUhNnu9cmmL",
        "outputId": "7b077591-d4ca-4c0f-8577-5bbddf41b6e0"
      },
      "execution_count": 72,
      "outputs": [
        {
          "output_type": "execute_result",
          "data": {
            "text/plain": [
              "['Student_ID',\n",
              " 'Age',\n",
              " 'Gender',\n",
              " 'Academic_Level',\n",
              " 'Country',\n",
              " 'Avg_Daily_Usage_Hours',\n",
              " 'Most_Used_Platform',\n",
              " 'Affects_Academic_Performance',\n",
              " 'Sleep_Hours_Per_Night',\n",
              " 'Mental_Health_Score',\n",
              " 'Relationship_Status',\n",
              " 'Conflicts_Over_Social_Media',\n",
              " 'Addicted_Score']"
            ]
          },
          "metadata": {},
          "execution_count": 72
        }
      ]
    },
    {
      "cell_type": "markdown",
      "source": [
        "**8.Display number of students having age greater than 20**"
      ],
      "metadata": {
        "id": "pXumcKZUdsg4"
      }
    },
    {
      "cell_type": "code",
      "source": [
        "df.filter(df['age']>20).show()"
      ],
      "metadata": {
        "colab": {
          "base_uri": "https://localhost:8080/"
        },
        "id": "XpfArnOheD8e",
        "outputId": "e2d03297-876f-45cd-8e3b-acc0a6fc0181"
      },
      "execution_count": 73,
      "outputs": [
        {
          "output_type": "stream",
          "name": "stdout",
          "text": [
            "+----------+---+------+--------------+------------+---------------------+------------------+----------------------------+---------------------+-------------------+-------------------+---------------------------+--------------+\n",
            "|Student_ID|Age|Gender|Academic_Level|     Country|Avg_Daily_Usage_Hours|Most_Used_Platform|Affects_Academic_Performance|Sleep_Hours_Per_Night|Mental_Health_Score|Relationship_Status|Conflicts_Over_Social_Media|Addicted_Score|\n",
            "+----------+---+------+--------------+------------+---------------------+------------------+----------------------------+---------------------+-------------------+-------------------+---------------------------+--------------+\n",
            "|         2| 22|  Male|      Graduate|       India|                  2.1|           Twitter|                          No|                  7.5|                  8|             Single|                          0|             3|\n",
            "|         5| 21|  Male|      Graduate|      Canada|                  4.5|          Facebook|                         Yes|                  6.0|                  6|    In Relationship|                          2|             7|\n",
            "|         7| 23|  Male|      Graduate|     Germany|                  1.5|          LinkedIn|                          No|                  8.0|                  9|             Single|                          0|             2|\n",
            "|        10| 21|Female|      Graduate| South Korea|                  3.3|         Instagram|                          No|                  7.0|                  7|    In Relationship|                          1|             4|\n",
            "|        13| 22|  Male|      Graduate|       Italy|                  2.8|          LinkedIn|                          No|                  7.2|                  8|             Single|                          1|             4|\n",
            "|        15| 21|  Male| Undergraduate|      Russia|                  3.7|           YouTube|                          No|                  6.8|                  7|    In Relationship|                          2|             5|\n",
            "|        17| 24|  Male|      Graduate|      Sweden|                  2.0|          LinkedIn|                          No|                  7.8|                  8|             Single|                          0|             3|\n",
            "|        19| 21|  Male| Undergraduate|     Denmark|                  3.5|          Facebook|                          No|                  6.7|                  7|             Single|                          1|             5|\n",
            "|        22| 23|Female|      Graduate| Switzerland|                  2.5|          LinkedIn|                          No|                  7.3|                  8|    In Relationship|                          1|             4|\n",
            "|        25| 22|  Male|      Graduate|      Greece|                  3.2|          Facebook|                          No|                  6.9|                  7|    In Relationship|                          2|             5|\n",
            "|        27| 21|  Male| Undergraduate| New Zealand|                  3.8|           YouTube|                          No|                  6.6|                  7|             Single|                          1|             5|\n",
            "|        29| 24|  Male|      Graduate|    Malaysia|                  2.2|          LinkedIn|                          No|                  7.4|                  8|             Single|                          0|             3|\n",
            "|        31| 21|  Male| Undergraduate|     Vietnam|                  3.6|          Facebook|                          No|                  6.7|                  7|             Single|                          1|             5|\n",
            "|        34| 23|Female|      Graduate|      Taiwan|                  2.6|          LinkedIn|                          No|                  7.2|                  8|             Single|                          1|             4|\n",
            "|        37| 22|  Male|      Graduate|      Israel|                  3.1|          Facebook|                          No|                  6.8|                  7|             Single|                          1|             5|\n",
            "|        39| 21|  Male| Undergraduate|       Egypt|                  3.9|           YouTube|                          No|                  6.5|                  7|        Complicated|                          2|             6|\n",
            "|        41| 24|  Male|      Graduate|South Africa|                  2.3|          LinkedIn|                          No|                  7.3|                  8|    In Relationship|                          1|             4|\n",
            "|        43| 21|  Male| Undergraduate|       Kenya|                  3.7|          Facebook|                          No|                  6.6|                  7|             Single|                          2|             5|\n",
            "|        46| 23|Female|      Graduate|       Chile|                  2.7|          LinkedIn|                          No|                  7.1|                  8|        Complicated|                          1|             4|\n",
            "|        49| 22|  Male|      Graduate|   Venezuela|                  3.3|          Facebook|                          No|                  6.7|                  7|    In Relationship|                          2|             5|\n",
            "+----------+---+------+--------------+------------+---------------------+------------------+----------------------------+---------------------+-------------------+-------------------+---------------------------+--------------+\n",
            "only showing top 20 rows\n",
            "\n"
          ]
        }
      ]
    },
    {
      "cell_type": "markdown",
      "source": [],
      "metadata": {
        "id": "BUvj5dhHcSb1"
      }
    },
    {
      "cell_type": "code",
      "source": [
        "df.filter(df['age']>20).select( 'country','gender','most_used_platform','addicted_score').show()\n"
      ],
      "metadata": {
        "colab": {
          "base_uri": "https://localhost:8080/"
        },
        "id": "rNh74T8PefEl",
        "outputId": "c6f9197d-24c7-4f69-a1a7-1788f5d2bb55"
      },
      "execution_count": 74,
      "outputs": [
        {
          "output_type": "stream",
          "name": "stdout",
          "text": [
            "+------------+------+------------------+--------------+\n",
            "|     country|gender|most_used_platform|addicted_score|\n",
            "+------------+------+------------------+--------------+\n",
            "|       India|  Male|           Twitter|             3|\n",
            "|      Canada|  Male|          Facebook|             7|\n",
            "|     Germany|  Male|          LinkedIn|             2|\n",
            "| South Korea|Female|         Instagram|             4|\n",
            "|       Italy|  Male|          LinkedIn|             4|\n",
            "|      Russia|  Male|           YouTube|             5|\n",
            "|      Sweden|  Male|          LinkedIn|             3|\n",
            "|     Denmark|  Male|          Facebook|             5|\n",
            "| Switzerland|Female|          LinkedIn|             4|\n",
            "|      Greece|  Male|          Facebook|             5|\n",
            "| New Zealand|  Male|           YouTube|             5|\n",
            "|    Malaysia|  Male|          LinkedIn|             3|\n",
            "|     Vietnam|  Male|          Facebook|             5|\n",
            "|      Taiwan|Female|          LinkedIn|             4|\n",
            "|      Israel|  Male|          Facebook|             5|\n",
            "|       Egypt|  Male|           YouTube|             6|\n",
            "|South Africa|  Male|          LinkedIn|             4|\n",
            "|       Kenya|  Male|          Facebook|             5|\n",
            "|       Chile|Female|          LinkedIn|             4|\n",
            "|   Venezuela|  Male|          Facebook|             5|\n",
            "+------------+------+------------------+--------------+\n",
            "only showing top 20 rows\n",
            "\n"
          ]
        }
      ]
    },
    {
      "cell_type": "markdown",
      "source": [
        "**9.which country has addicted score greater than 8**"
      ],
      "metadata": {
        "id": "_5q9KvXZoY50"
      }
    },
    {
      "cell_type": "code",
      "source": [
        "df.filter(df['addicted_score']>8).select('country').show()"
      ],
      "metadata": {
        "colab": {
          "base_uri": "https://localhost:8080/"
        },
        "id": "wj_NMjtoe-6R",
        "outputId": "b024cce2-4fe3-43f7-b578-330128783540"
      },
      "execution_count": 75,
      "outputs": [
        {
          "output_type": "stream",
          "name": "stdout",
          "text": [
            "+--------------+\n",
            "|       country|\n",
            "+--------------+\n",
            "|           USA|\n",
            "|     Australia|\n",
            "|        Mexico|\n",
            "|       Ireland|\n",
            "|           UAE|\n",
            "|       Ecuador|\n",
            "|Czech Republic|\n",
            "|       Armenia|\n",
            "| Liechtenstein|\n",
            "+--------------+\n",
            "\n"
          ]
        }
      ]
    },
    {
      "cell_type": "markdown",
      "source": [
        "**10.findout average for daily usage hours**"
      ],
      "metadata": {
        "id": "z4cE5ExEnY0R"
      }
    },
    {
      "cell_type": "code",
      "source": [
        "from pyspark.sql.functions import avg"
      ],
      "metadata": {
        "id": "i3BiEByim7GX"
      },
      "execution_count": 80,
      "outputs": []
    },
    {
      "cell_type": "code",
      "source": [
        "df.select(avg(\"avg_daily_usage_hours\")).show()\n"
      ],
      "metadata": {
        "colab": {
          "base_uri": "https://localhost:8080/"
        },
        "id": "gK-DqU9mnLXn",
        "outputId": "2f130d20-7f77-4502-908d-73fe32642fe6"
      },
      "execution_count": 81,
      "outputs": [
        {
          "output_type": "stream",
          "name": "stdout",
          "text": [
            "+--------------------------+\n",
            "|avg(avg_daily_usage_hours)|\n",
            "+--------------------------+\n",
            "|         4.351999999999999|\n",
            "+--------------------------+\n",
            "\n"
          ]
        }
      ]
    },
    {
      "cell_type": "markdown",
      "source": [
        "**11.find order of conflict over socialmedia in ascending order**"
      ],
      "metadata": {
        "id": "aIaXI5yHsqMp"
      }
    },
    {
      "cell_type": "code",
      "source": [
        "df.orderBy(\"conflicts_over_social_media\",ascending=True).show()"
      ],
      "metadata": {
        "colab": {
          "base_uri": "https://localhost:8080/"
        },
        "id": "8fzG0NcYrjC_",
        "outputId": "49e3f660-6899-4edb-a1fd-a7e57732ef42"
      },
      "execution_count": 85,
      "outputs": [
        {
          "output_type": "stream",
          "name": "stdout",
          "text": [
            "+----------+---+------+--------------+------------+---------------------+------------------+----------------------------+---------------------+-------------------+-------------------+---------------------------+--------------+\n",
            "|Student_ID|Age|Gender|Academic_Level|     Country|Avg_Daily_Usage_Hours|Most_Used_Platform|Affects_Academic_Performance|Sleep_Hours_Per_Night|Mental_Health_Score|Relationship_Status|Conflicts_Over_Social_Media|Addicted_Score|\n",
            "+----------+---+------+--------------+------------+---------------------+------------------+----------------------------+---------------------+-------------------+-------------------+---------------------------+--------------+\n",
            "|         2| 22|  Male|      Graduate|       India|                  2.1|           Twitter|                          No|                  7.5|                  8|             Single|                          0|             3|\n",
            "|         7| 23|  Male|      Graduate|     Germany|                  1.5|          LinkedIn|                          No|                  8.0|                  9|             Single|                          0|             2|\n",
            "|        17| 24|  Male|      Graduate|      Sweden|                  2.0|          LinkedIn|                          No|                  7.8|                  8|             Single|                          0|             3|\n",
            "|        29| 24|  Male|      Graduate|    Malaysia|                  2.2|          LinkedIn|                          No|                  7.4|                  8|             Single|                          0|             3|\n",
            "|        22| 23|Female|      Graduate| Switzerland|                  2.5|          LinkedIn|                          No|                  7.3|                  8|    In Relationship|                          1|             4|\n",
            "|         9| 18|  Male|   High School|       Japan|                  4.0|            TikTok|                          No|                  6.5|                  7|             Single|                          1|             5|\n",
            "|        10| 21|Female|      Graduate| South Korea|                  3.3|         Instagram|                          No|                  7.0|                  7|    In Relationship|                          1|             4|\n",
            "|        13| 22|  Male|      Graduate|       Italy|                  2.8|          LinkedIn|                          No|                  7.2|                  8|             Single|                          1|             4|\n",
            "|        19| 21|  Male| Undergraduate|     Denmark|                  3.5|          Facebook|                          No|                  6.7|                  7|             Single|                          1|             5|\n",
            "|        41| 24|  Male|      Graduate|South Africa|                  2.3|          LinkedIn|                          No|                  7.3|                  8|    In Relationship|                          1|             4|\n",
            "|        27| 21|  Male| Undergraduate| New Zealand|                  3.8|           YouTube|                          No|                  6.6|                  7|             Single|                          1|             5|\n",
            "|         4| 18|  Male|   High School|          UK|                  3.0|           YouTube|                          No|                  7.0|                  7|             Single|                          1|             4|\n",
            "|        31| 21|  Male| Undergraduate|     Vietnam|                  3.6|          Facebook|                          No|                  6.7|                  7|             Single|                          1|             5|\n",
            "|        34| 23|Female|      Graduate|      Taiwan|                  2.6|          LinkedIn|                          No|                  7.2|                  8|             Single|                          1|             4|\n",
            "|        37| 22|  Male|      Graduate|      Israel|                  3.1|          Facebook|                          No|                  6.8|                  7|             Single|                          1|             5|\n",
            "|        46| 23|Female|      Graduate|       Chile|                  2.7|          LinkedIn|                          No|                  7.1|                  8|        Complicated|                          1|             4|\n",
            "|        53| 24|  Male|      Graduate|     Bolivia|                  2.4|          LinkedIn|                          No|                  7.2|                  8|        Complicated|                          1|             4|\n",
            "|        58| 23|Female|      Graduate|     Bahamas|                  2.8|          LinkedIn|                          No|                  7.0|                  8|    In Relationship|                          1|             4|\n",
            "|        61| 22|  Male|      Graduate|      Poland|                  3.1|          Facebook|                          No|                  7.1|                  7|             Single|                          1|             5|\n",
            "|        65| 23|  Male|      Graduate|    Slovakia|                  2.3|          LinkedIn|                          No|                  7.4|                  8|    In Relationship|                          1|             3|\n",
            "+----------+---+------+--------------+------------+---------------------+------------------+----------------------------+---------------------+-------------------+-------------------+---------------------------+--------------+\n",
            "only showing top 20 rows\n",
            "\n"
          ]
        }
      ]
    },
    {
      "cell_type": "code",
      "source": [],
      "metadata": {
        "id": "bfNc8HFAr7jT"
      },
      "execution_count": null,
      "outputs": []
    }
  ]
}